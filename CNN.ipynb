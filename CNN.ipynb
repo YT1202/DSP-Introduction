{
  "nbformat": 4,
  "nbformat_minor": 0,
  "metadata": {
    "colab": {
      "name": "CNN.ipynb",
      "provenance": [],
      "collapsed_sections": [],
      "authorship_tag": "ABX9TyNCVbcO58Kygq4h6qH0TzxI",
      "include_colab_link": true
    },
    "kernelspec": {
      "name": "python3",
      "display_name": "Python 3"
    },
    "accelerator": "GPU"
  },
  "cells": [
    {
      "cell_type": "markdown",
      "metadata": {
        "id": "view-in-github",
        "colab_type": "text"
      },
      "source": [
        "<a href=\"https://colab.research.google.com/github/YT1202/DSP-Introduction/blob/main/CNN.ipynb\" target=\"_parent\"><img src=\"https://colab.research.google.com/assets/colab-badge.svg\" alt=\"Open In Colab\"/></a>"
      ]
    },
    {
      "cell_type": "code",
      "metadata": {
        "colab": {
          "base_uri": "https://localhost:8080/"
        },
        "id": "_v7coCR9O8lX",
        "outputId": "d6b7099a-da3a-4858-effb-802b60cb45d3"
      },
      "source": [
        "!nvidia-smi"
      ],
      "execution_count": 10,
      "outputs": [
        {
          "output_type": "stream",
          "text": [
            "Fri Jan  8 14:13:59 2021       \n",
            "+-----------------------------------------------------------------------------+\n",
            "| NVIDIA-SMI 460.27.04    Driver Version: 418.67       CUDA Version: 10.1     |\n",
            "|-------------------------------+----------------------+----------------------+\n",
            "| GPU  Name        Persistence-M| Bus-Id        Disp.A | Volatile Uncorr. ECC |\n",
            "| Fan  Temp  Perf  Pwr:Usage/Cap|         Memory-Usage | GPU-Util  Compute M. |\n",
            "|                               |                      |               MIG M. |\n",
            "|===============================+======================+======================|\n",
            "|   0  Tesla T4            Off  | 00000000:00:04.0 Off |                    0 |\n",
            "| N/A   34C    P8     9W /  70W |      0MiB / 15079MiB |      0%      Default |\n",
            "|                               |                      |                 ERR! |\n",
            "+-------------------------------+----------------------+----------------------+\n",
            "                                                                               \n",
            "+-----------------------------------------------------------------------------+\n",
            "| Processes:                                                                  |\n",
            "|  GPU   GI   CI        PID   Type   Process name                  GPU Memory |\n",
            "|        ID   ID                                                   Usage      |\n",
            "|=============================================================================|\n",
            "|  No running processes found                                                 |\n",
            "+-----------------------------------------------------------------------------+\n"
          ],
          "name": "stdout"
        }
      ]
    },
    {
      "cell_type": "code",
      "metadata": {
        "id": "MeYLQ8ntJvQV"
      },
      "source": [
        "import time\r\n",
        "import scipy\r\n",
        "import pandas as pd\r\n",
        "import numpy as np \r\n",
        "import matplotlib.pyplot as plt \r\n",
        "from keras.utils import np_utils\r\n",
        "from keras.models import Sequential\r\n",
        "from keras.layers import Dense, Activation, Convolution2D, MaxPooling2D, Flatten\r\n",
        "from keras.layers import Dropout\r\n",
        "from scipy import signal"
      ],
      "execution_count": 11,
      "outputs": []
    },
    {
      "cell_type": "code",
      "metadata": {
        "id": "R4kYkJnwKsge"
      },
      "source": [
        "# 計時開始\r\n",
        "tStart = time.time()"
      ],
      "execution_count": null,
      "outputs": []
    },
    {
      "cell_type": "code",
      "metadata": {
        "id": "AAf-ZLF2KuYo"
      },
      "source": [
        "# Step_1 載入資料集  \r\n",
        "sample, label = np.load(\"traindata.npy\"), np.load(\"trainlabel.npy\")\r\n",
        "val_sample, val_label = np.load(\"validationdata.npy\"), np.load(\"validationlabel.npy\")\r\n",
        "test_sample = np.load(\"testdata.npy\")\r\n",
        "print(\"Train size: \", sample.shape)\r\n",
        "print(\"Train target: \", label.shape, \"\\n-------------------------------------\")\r\n",
        "print(\"Val size: \", val_sample.shape)\r\n",
        "print(\"Val target: \", val_label.shape, \"\\n-------------------------------------\")\r\n",
        "print(\"Test size: \", test_sample.shape, \"\\n=======================================\")"
      ],
      "execution_count": null,
      "outputs": []
    },
    {
      "cell_type": "code",
      "metadata": {
        "id": "3PIqI33yKv-d"
      },
      "source": [
        "# Step_2  時頻分析\r\n",
        "f, t, spec = signal.stft(sample, fs = 16000)\r\n",
        "f, t, val_spec = signal.stft(val_sample, fs = 16000)\r\n",
        "f, t, test_spec = signal.stft(test_sample, fs = 16000)\r\n",
        "print(\"Spec size: \", spec.shape, \"\\n-------------------------------------\")\r\n",
        "print(\"Val_Spec size: \", val_spec.shape, \"\\n-------------------------------------\")\r\n",
        "print(\"Test_Spec size: \", test_spec.shape, \"\\n-------------------------------------\")\r\n",
        "x_train = np.abs(spec.reshape(-1, 2, 129, 158))\r\n",
        "x_val = np.abs(val_spec.reshape(-1, 2, 129, 158))\r\n",
        "x_test = np.abs(test_spec.reshape(-1, 2, 129, 158))\r\n",
        "print(\"x_train size: \", x_train.shape, \"\\n-------------------------------------\")\r\n",
        "print(\"x_val size: \",x_val.shape, \"\\n-------------------------------------\")\r\n",
        "print(\"x_test size: \", x_test.shape, \"\\n=======================================\")\r\n",
        "\r\n",
        "plt.subplot(2,1,1)\r\n",
        "plt.imshow(x_train[0][0], aspect='auto')\r\n",
        "plt.subplot(2,1,2)\r\n",
        "plt.imshow(x_train[0][1], aspect='auto')"
      ],
      "execution_count": null,
      "outputs": []
    },
    {
      "cell_type": "code",
      "metadata": {
        "id": "NN2yyB69KxoS"
      },
      "source": [
        "# Step_3  利用OneHot對label進行編碼\r\n",
        "y_train = label\r\n",
        "y_val = val_label\r\n",
        "\r\n",
        "y_train_onehot = np_utils.to_categorical(y_train)\r\n",
        "y_val_onehot = np_utils.to_categorical(y_val)"
      ],
      "execution_count": null,
      "outputs": []
    },
    {
      "cell_type": "code",
      "metadata": {
        "id": "LdP5xu_CKzRR"
      },
      "source": [
        "# Step_4  建立訓練模型\r\n",
        "model = Sequential()\r\n",
        "\r\n",
        "# Conv layer 1 output shape (6, 129, 158)\r\n",
        "model.add(Convolution2D(\r\n",
        "     input_shape=(129, 158, 2),\r\n",
        "     filters=6,\r\n",
        "     kernel_size=5,\r\n",
        "     strides=1,\r\n",
        "     padding='same',\r\n",
        "     activation='relu'))\r\n",
        "\r\n",
        "# Pooling layer 1 (max pooling) output shape (32, 65, 79)\r\n",
        "model.add(MaxPooling2D(\r\n",
        "     pool_size=2,\r\n",
        "     strides=2,\r\n",
        "     padding='same'))\r\n",
        "\r\n",
        "# Conv layer 2 output shape (16, 65, 79)\r\n",
        "model.add(Convolution2D(filter=16, \r\n",
        "            kernel_size=5, \r\n",
        "            strides=1, \r\n",
        "            padding='same', \r\n",
        "            activation='relu'))\r\n",
        "\r\n",
        "# Pooling layer 2 (max pooling) output shape (16, 33, 40)\r\n",
        "model.add(MaxPooling2D(\r\n",
        "     pool_size=2,\r\n",
        "     strides=2,\r\n",
        "     padding='same'))\r\n",
        "\r\n",
        "# Conv layer 3 output shape (16, 33, 40)\r\n",
        "model.add(Convolution2D(filter=16, \r\n",
        "            kernel_size=5, \r\n",
        "            strides=1, \r\n",
        "            padding='same', \r\n",
        "            activation='relu'))\r\n",
        "\r\n",
        "# Pooling layer 3 (max pooling) output shape (16, 17, 20)\r\n",
        "model.add(MaxPooling2D(\r\n",
        "     pool_size=2,\r\n",
        "     strides=2,\r\n",
        "     padding='same'))\r\n",
        "\r\n",
        "# Conv layer 4 output shape (36, 17, 20)\r\n",
        "model.add(Convolution2D(filter=36, \r\n",
        "            kernel_size=5, \r\n",
        "            strides=1, \r\n",
        "            padding='same', \r\n",
        "            activation='relu'))\r\n",
        "\r\n",
        "# Pooling layer 4 (max pooling) output shape (36, 9, 10)\r\n",
        "model.add(MaxPooling2D(\r\n",
        "     pool_size=2,\r\n",
        "     strides=2,\r\n",
        "     padding='same'))\r\n",
        "\r\n",
        "# Conv layer 5 output shape (48, 9, 10)\r\n",
        "model.add(Convolution2D(filter=48, \r\n",
        "            kernel_size=5, \r\n",
        "            strides=1, \r\n",
        "            padding='same', \r\n",
        "            activation='relu'))\r\n",
        "\r\n",
        "# Pooling layer 5 (max pooling) output shape (48, 5, 5)\r\n",
        "model.add(MaxPooling2D(\r\n",
        "     pool_size=2,\r\n",
        "     strides=2,\r\n",
        "     padding='same'))\r\n",
        "\r\n",
        "model.add(Dropout(0.25))\r\n",
        "\r\n",
        "# Fc layer 1 input shape (48 * 5 * 5) = (1200), output shape (1024)\r\n",
        "model.add(Flatten())\r\n",
        "model.add(Dense(units=1024, \r\n",
        "        activation='relu'))\r\n",
        "model.add(Dropout(0.5))\r\n",
        "# Fc layer 2 input shape (1024), output shape (128)\r\n",
        "model.add(Dense(units=128,  \r\n",
        "        activation='relu'))\r\n",
        "model.add(Dropout(0.5))\r\n",
        "# Output\r\n",
        "model.add(Dense(units=4,  \r\n",
        "        activation='softmax'))\r\n",
        "print(model.summary()) "
      ],
      "execution_count": null,
      "outputs": []
    },
    {
      "cell_type": "code",
      "metadata": {
        "id": "-jViD2obK9si"
      },
      "source": [
        "# Step_4  參數設定\r\n",
        "model.compile(loss='categorical_crossentropy', optimizer='adam', metrics=['accuracy'])\r\n",
        "\r\n",
        "train_history=model.fit(x=x_train, \r\n",
        "            y=y_train_onehot,\r\n",
        "            validation_data=(x_val, y_val_onehot), \r\n",
        "            epochs=5, \r\n",
        "            batch_size=64,\r\n",
        "            verbose=2)"
      ],
      "execution_count": null,
      "outputs": []
    },
    {
      "cell_type": "code",
      "metadata": {
        "id": "VcJYRBShLEYe"
      },
      "source": [
        "# Step_5  顯示訓練結果: Accurancy & Loss\r\n",
        "def show_train_history(train_history,train,validation):\r\n",
        "    plt.plot(train_history.history[train])\r\n",
        "    plt.plot(train_history.history[validation])\r\n",
        "    plt.title('Train History')\r\n",
        "    plt.ylabel(train)\r\n",
        "    plt.xlabel('Epoch')\r\n",
        "    plt.legend(['train', 'validation'], loc='upper left')\r\n",
        "    plt.show()\r\n",
        "\r\n",
        "show_train_history(train_history,'accuracy','val_accuracy')\r\n",
        "show_train_history(train_history,'loss','val_loss')"
      ],
      "execution_count": null,
      "outputs": []
    },
    {
      "cell_type": "code",
      "metadata": {
        "id": "K0f77YzKSM6N"
      },
      "source": [
        "# Step_6 儲存模型\r\n",
        "model.save('model.h5') "
      ],
      "execution_count": null,
      "outputs": []
    },
    {
      "cell_type": "code",
      "metadata": {
        "id": "HsTMrXL9LE-H"
      },
      "source": [
        "# Step_7  用測試集檢驗模型\r\n",
        "scores = model.evaluate(x_val, y_val_onehot)\r\n",
        "print('accurancy= ', scores[1])"
      ],
      "execution_count": null,
      "outputs": []
    },
    {
      "cell_type": "code",
      "metadata": {
        "id": "g1utq8HTLIGk"
      },
      "source": [
        "# Step_8  利用訓練好的模型驗證\r\n",
        "prediction = model.predict_classes(x_test)\r\n",
        "y_test = prediction.reshape(-1,1)"
      ],
      "execution_count": null,
      "outputs": []
    },
    {
      "cell_type": "code",
      "metadata": {
        "id": "E3lHFyp6SXLF"
      },
      "source": [
        "# Step_9  產生繳交csv格式 \r\n",
        "id_test = np.array(range(0, 960)).reshape(-1,1)\r\n",
        "submission = np.hstack([id_test, y_test])\r\n",
        "submission = pd.DataFrame(submission, columns=[\"id\", \"category\"])\r\n",
        "\r\n",
        "submission.to_csv('submission.csv', sep=',', index=False)"
      ],
      "execution_count": null,
      "outputs": []
    },
    {
      "cell_type": "code",
      "metadata": {
        "id": "FrRsqWwoLKe0"
      },
      "source": [
        "# 計時結束\r\n",
        "tEnd = time.time()\r\n",
        "print('==========================================\\ntime : ', tEnd - tStart, '(s)')"
      ],
      "execution_count": null,
      "outputs": []
    }
  ]
}